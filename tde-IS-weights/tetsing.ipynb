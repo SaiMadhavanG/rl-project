{
 "cells": [
  {
   "cell_type": "code",
   "execution_count": 1,
   "metadata": {},
   "outputs": [
    {
     "name": "stdout",
     "output_type": "stream",
     "text": [
      "[1.    0.1   0.01  0.001]\n"
     ]
    }
   ],
   "source": [
    "import numpy as np\n",
    "\n",
    "def exponentially_decaying_array(n, decay_factor):\n",
    "    return decay_factor ** np.arange(n)\n",
    "\n",
    "start_value = 0.1\n",
    "n = 4\n",
    "decay_factor = 0.1  # This is the factor by which each subsequent element decays\n",
    "\n",
    "decay_array = exponentially_decaying_array(n, decay_factor)\n",
    "print(decay_array)\n"
   ]
  },
  {
   "cell_type": "code",
   "execution_count": 2,
   "metadata": {},
   "outputs": [
    {
     "name": "stdout",
     "output_type": "stream",
     "text": [
      "[0 1 2 3 4 5 6 7 8 9]\n",
      "[1 2 3 4]\n",
      "[ 0  1  2  4  6  8 10  7  8  9]\n"
     ]
    }
   ],
   "source": [
    "import numpy as np\n",
    "\n",
    "# Creating the first array of size 10\n",
    "first_array = np.arange(10)\n",
    "print(first_array)\n",
    "\n",
    "# Creating the second array of size 4\n",
    "second_array = np.array([1, 2, 3, 4])\n",
    "print(second_array)\n",
    "\n",
    "# Adding the second array to the first array at index 3 to 6\n",
    "first_array[3:7] += second_array\n",
    "\n",
    "print(first_array)\n"
   ]
  },
  {
   "cell_type": "code",
   "execution_count": 6,
   "metadata": {},
   "outputs": [
    {
     "name": "stdout",
     "output_type": "stream",
     "text": [
      "[0 1 2 3]\n",
      "[ 0  5 10 15]\n"
     ]
    }
   ],
   "source": [
    "a = np.arange(4)\n",
    "print(a)\n",
    "b = a * 5\n",
    "print(b)"
   ]
  }
 ],
 "metadata": {
  "kernelspec": {
   "display_name": "Python 3",
   "language": "python",
   "name": "python3"
  },
  "language_info": {
   "codemirror_mode": {
    "name": "ipython",
    "version": 3
   },
   "file_extension": ".py",
   "mimetype": "text/x-python",
   "name": "python",
   "nbconvert_exporter": "python",
   "pygments_lexer": "ipython3",
   "version": "3.12.1"
  }
 },
 "nbformat": 4,
 "nbformat_minor": 2
}
