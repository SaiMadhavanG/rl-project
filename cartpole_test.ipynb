{
 "cells": [
  {
   "cell_type": "code",
   "execution_count": 1,
   "metadata": {},
   "outputs": [],
   "source": [
    "from agent_trainer import AgentTrainer\n",
    "from agent import DQNAgent\n",
    "from environment import CartPoleEnvironment\n",
    "from logger import Logger\n",
    "from power_replay import PowerReplay\n",
    "import torch"
   ]
  },
  {
   "cell_type": "code",
   "execution_count": 2,
   "metadata": {},
   "outputs": [],
   "source": [
    "device = 'cuda'"
   ]
  },
  {
   "cell_type": "code",
   "execution_count": 3,
   "metadata": {},
   "outputs": [],
   "source": [
    "agent = DQNAgent(2, 4, device=device)\n",
    "env = CartPoleEnvironment()\n",
    "logger = Logger(\"cf-2\")\n",
    "optimizer = torch.optim.Adam(agent.network.parameters(), lr=1e-3)\n",
    "powerReplay = PowerReplay(600, 128, 1, [], 'uniform')"
   ]
  },
  {
   "cell_type": "code",
   "execution_count": 4,
   "metadata": {},
   "outputs": [],
   "source": [
    "trainer = AgentTrainer(\n",
    "    agent,\n",
    "    env,\n",
    "    logger,\n",
    "    optimizer,\n",
    "    powerReplay,\n",
    "    device=device,\n",
    "    epsilon=0.1,\n",
    "    epsilon_decay=0.999,\n",
    "    tau=1,\n",
    "    gamma=1\n",
    ")"
   ]
  },
  {
   "cell_type": "code",
   "execution_count": 5,
   "metadata": {},
   "outputs": [
    {
     "name": "stderr",
     "output_type": "stream",
     "text": [
      "c:\\programming\\projects\\pj_env\\lib\\site-packages\\gym\\utils\\passive_env_checker.py:233: DeprecationWarning: `np.bool8` is a deprecated alias for `np.bool_`.  (Deprecated NumPy 1.24)\n",
      "  if not isinstance(terminated, (bool, np.bool8)):\n"
     ]
    },
    {
     "ename": "KeyboardInterrupt",
     "evalue": "",
     "output_type": "error",
     "traceback": [
      "\u001b[1;31m---------------------------------------------------------------------------\u001b[0m",
      "\u001b[1;31mKeyboardInterrupt\u001b[0m                         Traceback (most recent call last)",
      "Cell \u001b[1;32mIn[5], line 1\u001b[0m\n\u001b[1;32m----> 1\u001b[0m \u001b[43mtrainer\u001b[49m\u001b[38;5;241;43m.\u001b[39;49m\u001b[43mtrain_steps\u001b[49m\u001b[43m(\u001b[49m\u001b[38;5;241;43m1e4\u001b[39;49m\u001b[43m)\u001b[49m\n",
      "File \u001b[1;32mc:\\programming\\projects\\rl-project\\agent_trainer.py:124\u001b[0m, in \u001b[0;36mAgentTrainer.train_steps\u001b[1;34m(self, num_steps)\u001b[0m\n\u001b[0;32m    121\u001b[0m \u001b[38;5;28mself\u001b[39m\u001b[38;5;241m.\u001b[39mfill_buffer()\n\u001b[0;32m    123\u001b[0m \u001b[38;5;28;01mwhile\u001b[39;00m \u001b[38;5;28mself\u001b[39m\u001b[38;5;241m.\u001b[39m_steps_done \u001b[38;5;241m<\u001b[39m num_steps:\n\u001b[1;32m--> 124\u001b[0m     score, target_qs \u001b[38;5;241m=\u001b[39m \u001b[38;5;28;43mself\u001b[39;49m\u001b[38;5;241;43m.\u001b[39;49m\u001b[43mtrain_episode\u001b[49m\u001b[43m(\u001b[49m\u001b[43m)\u001b[49m\n\u001b[0;32m    125\u001b[0m     \u001b[38;5;28mself\u001b[39m\u001b[38;5;241m.\u001b[39mlogger\u001b[38;5;241m.\u001b[39mlog(\u001b[38;5;124m\"\u001b[39m\u001b[38;5;124mscore\u001b[39m\u001b[38;5;124m\"\u001b[39m, score, \u001b[38;5;28mself\u001b[39m\u001b[38;5;241m.\u001b[39mepisode_id)\n\u001b[0;32m    126\u001b[0m     \u001b[38;5;28mself\u001b[39m\u001b[38;5;241m.\u001b[39mlogger\u001b[38;5;241m.\u001b[39mlog(\u001b[38;5;124m\"\u001b[39m\u001b[38;5;124mtarget_qs\u001b[39m\u001b[38;5;124m\"\u001b[39m, target_qs, \u001b[38;5;28mself\u001b[39m\u001b[38;5;241m.\u001b[39mepisode_id)\n",
      "File \u001b[1;32mc:\\programming\\projects\\rl-project\\agent_trainer.py:86\u001b[0m, in \u001b[0;36mAgentTrainer.train_episode\u001b[1;34m(self)\u001b[0m\n\u001b[0;32m     82\u001b[0m \u001b[38;5;66;03m# calc returns for training\u001b[39;00m\n\u001b[0;32m     83\u001b[0m \u001b[38;5;28;01mfor\u001b[39;00m i \u001b[38;5;129;01min\u001b[39;00m \u001b[38;5;28mrange\u001b[39m(\u001b[38;5;28mlen\u001b[39m(train_batch)):\n\u001b[0;32m     84\u001b[0m     q_vals[i][train_batch[i]\u001b[38;5;241m.\u001b[39maction] \u001b[38;5;241m=\u001b[39m (\n\u001b[0;32m     85\u001b[0m         train_batch[i]\u001b[38;5;241m.\u001b[39mreward\n\u001b[1;32m---> 86\u001b[0m         \u001b[38;5;241m+\u001b[39m \u001b[38;5;28mself\u001b[39m\u001b[38;5;241m.\u001b[39mgamma \u001b[38;5;241m*\u001b[39m \u001b[43mtorch\u001b[49m\u001b[38;5;241;43m.\u001b[39;49m\u001b[43mmax\u001b[49m\u001b[43m(\u001b[49m\u001b[43mnext_state_q_vals\u001b[49m\u001b[43m[\u001b[49m\u001b[43mi\u001b[49m\u001b[43m]\u001b[49m\u001b[43m)\u001b[49m\u001b[38;5;241m.\u001b[39mitem()\n\u001b[0;32m     87\u001b[0m     )\n\u001b[0;32m     89\u001b[0m train_ds \u001b[38;5;241m=\u001b[39m TensorDataset(states, q_vals)\n\u001b[0;32m     90\u001b[0m train_dl \u001b[38;5;241m=\u001b[39m DataLoader(\n\u001b[0;32m     91\u001b[0m     train_ds, batch_size\u001b[38;5;241m=\u001b[39m\u001b[38;5;28mself\u001b[39m\u001b[38;5;241m.\u001b[39mpower_replay\u001b[38;5;241m.\u001b[39mbatch_size, shuffle\u001b[38;5;241m=\u001b[39m\u001b[38;5;28;01mTrue\u001b[39;00m\n\u001b[0;32m     92\u001b[0m )\n",
      "\u001b[1;31mKeyboardInterrupt\u001b[0m: "
     ]
    }
   ],
   "source": [
    "trainer.train_steps(1e4)"
   ]
  },
  {
   "cell_type": "code",
   "execution_count": null,
   "metadata": {},
   "outputs": [],
   "source": []
  }
 ],
 "metadata": {
  "kernelspec": {
   "display_name": "pj_env",
   "language": "python",
   "name": "python3"
  },
  "language_info": {
   "codemirror_mode": {
    "name": "ipython",
    "version": 3
   },
   "file_extension": ".py",
   "mimetype": "text/x-python",
   "name": "python",
   "nbconvert_exporter": "python",
   "pygments_lexer": "ipython3",
   "version": "3.10.10"
  }
 },
 "nbformat": 4,
 "nbformat_minor": 2
}
